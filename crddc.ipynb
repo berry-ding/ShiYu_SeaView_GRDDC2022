{
 "cells": [
  {
   "cell_type": "markdown",
   "metadata": {},
   "source": [
    "# Dataset preparing\n"
   ]
  },
  {
   "cell_type": "code",
   "execution_count": null,
   "metadata": {},
   "outputs": [],
   "source": [
    "#data downloading\n",
    "\n",
    "%cd datasets\n",
    "%cd RDD2022\n",
    "!wget https://bigdatacup.s3.ap-northeast-1.amazonaws.com/2022/CRDDC2022/RDD2022/Country_Specific_Data_CRDDC2022/RDD2022_Japan.zip\n",
    "!wget https://bigdatacup.s3.ap-northeast-1.amazonaws.com/2022/CRDDC2022/RDD2022/Country_Specific_Data_CRDDC2022/RDD2022_India.zip\n",
    "!wget https://bigdatacup.s3.ap-northeast-1.amazonaws.com/2022/CRDDC2022/RDD2022/Country_Specific_Data_CRDDC2022/RDD2022_Czech.zip\n",
    "!wget https://bigdatacup.s3.ap-northeast-1.amazonaws.com/2022/CRDDC2022/RDD2022/Country_Specific_Data_CRDDC2022/RDD2022_Norway.zip\n",
    "!wget https://bigdatacup.s3.ap-northeast-1.amazonaws.com/2022/CRDDC2022/RDD2022/Country_Specific_Data_CRDDC2022/RDD2022_United_States.zip\n",
    "!wget https://bigdatacup.s3.ap-northeast-1.amazonaws.com/2022/CRDDC2022/RDD2022/Country_Specific_Data_CRDDC2022/RDD2022_China_MotorBike.zip\n",
    "!wget https://bigdatacup.s3.ap-northeast-1.amazonaws.com/2022/CRDDC2022/RDD2022/Country_Specific_Data_CRDDC2022/RDD2022_China_Drone.zip\n",
    "!unzip RDD2022_Japan.zip\n",
    "!unzip RDD2022_India.zip\n",
    "!unzip RDD2022_Czech.zip\n",
    "!unzip RDD2022_Norway.zip\n",
    "!unzip RDD2022_United_States.zip\n",
    "!unzip RDD2022_China_Drone.zip\n",
    "!unzip RDD2022_China_MotorBike.zip\n",
    "!mv RDD2022_Japan Japan\n",
    "!mv RDD2022_India India\n",
    "!mv RDD2022_Czech Czech \n",
    "!mv RDD2022_Norway Norway\n",
    "!mv RDD2022_United_States United_States\n",
    "!mv RDD2022_China_Drone China_Drone\n",
    "!mv RDD2022_China_MotorBike China_MotorBike\n",
    "\n",
    "# !ls -a"
   ]
  },
  {
   "cell_type": "markdown",
   "metadata": {},
   "source": [
    "# data pre-processing for yolo"
   ]
  },
  {
   "cell_type": "code",
   "execution_count": 6,
   "metadata": {},
   "outputs": [
    {
     "name": "stdout",
     "output_type": "stream",
     "text": [
      "total files: 38384\n",
      "D00 : 13548\n",
      "D10 : 7709\n",
      "D40 : 3674\n",
      "D20 : 8412\n"
     ]
    }
   ],
   "source": [
    "%pip install Pillow\n",
    "%pip install tqdm\n",
    "%cd datasets/RDD2022\n",
    "!python gene_train_val.py\n",
    "%cd ../..\n",
    "!python datasets/RDD2022/xml2yolo.py --class_file datasets/RDD2022/damage_classes.txt --input_file datasets/RDD2022/train.txt"
   ]
  },
  {
   "cell_type": "markdown",
   "metadata": {},
   "source": [
    "# data pre-processing for mmdetection"
   ]
  },
  {
   "cell_type": "code",
   "execution_count": 7,
   "metadata": {},
   "outputs": [],
   "source": [
    "!python datasets/RDD2022/gene_file_list.py"
   ]
  },
  {
   "cell_type": "markdown",
   "metadata": {},
   "source": [
    "# test data preparing"
   ]
  },
  {
   "cell_type": "code",
   "execution_count": 18,
   "metadata": {},
   "outputs": [
    {
     "name": "stdout",
     "output_type": "stream",
     "text": [
      "mkdir: cannot create directory ‘datasets/RDD2022/test1_images’: File exists\n",
      "^C\n",
      "cp: cannot stat ‘datasets/RDD2022/China/test/images/*’: No such file or directory\n",
      "cp: cannot stat ‘datasets/RDD2022/China/test/images/*’: No such file or directory\n",
      "cp: cannot stat ‘datasets/RDD2022/China/test/images/*’: No such file or directory\n",
      "cp: cannot stat ‘datasets/RDD2022/China/test/images/*’: No such file or directory\n"
     ]
    }
   ],
   "source": [
    "!mkdir datasets/RDD2022/test1_images\n",
    "!cp datasets/RDD2022/China_MotorBike/test/images/* datasets/RDD2022/test1_images/\n",
    "!cp datasets/RDD2022/Czech/test/images/* datasets/RDD2022/test1_images/\n",
    "!cp datasets/RDD2022/Inida/test/images/* datasets/RDD2022/test1_images/\n",
    "!cp datasets/RDD2022/Norway/test/images/* datasets/RDD2022/test1_images/\n",
    "!cp datasets/RDD2022/Japan/test/images/* datasets/RDD2022/test1_images/\n",
    "!cp datasets/RDD2022/United_States/test/images/* datasets/RDD2022/test1_images/"
   ]
  },
  {
   "cell_type": "markdown",
   "metadata": {},
   "source": [
    "# YOLOv5 training and inferencing"
   ]
  },
  {
   "cell_type": "code",
   "execution_count": null,
   "metadata": {},
   "outputs": [],
   "source": [
    "%cd yolov5\n",
    "!ln -s ../datasets datasets \n",
    "\n",
    "#training\n",
    "#pretrained weights\n",
    "!wget https://github.com/ultralytics/yolov5/releases/download/v6.1/yolov5x.pt\n",
    "!wget https://github.com/ultralytics/yolov5/releases/download/v6.1/yolov5x6.pt\n",
    "!python train.py --weights yolov5x6.pt --cfg models/hub/yolov5x6.yaml --hyp data/hyps/hyp.scratch-med.yaml --data data/rdd.yaml --batch-size 64 --imgsz 1280 --noval --device 0,1,2,3,4,5,6,7 --sync-bn --save-period 5\n",
    "!python train.py --weights yolov5x.pt --cfg models/yolov5x.yaml --hyp data/hyps/hyp.scratch-med.yaml --data data/rdd.yaml --batch-size 64 --imgsz 640 --noval --device 0,1,2,3,4,5,6,7 --sync-bn --save-period 5\n",
    "\n",
    "#inferencing \n",
    "! python detect.py --weights {your weight}.pt --source datasets/RDD2022/test1_images/ --imgsz 640 --conf-thres 0.20 --iou-thres 0.9999 --device 0 --nosave --agnostic-nms --filename {your filename}"
   ]
  },
  {
   "cell_type": "markdown",
   "metadata": {},
   "source": [
    "# YOLOv7 training and inferencing"
   ]
  },
  {
   "cell_type": "code",
   "execution_count": null,
   "metadata": {},
   "outputs": [],
   "source": [
    "%cd ..\n",
    "%cd yolov7\n",
    "!ln -s ../datasets datasets\n",
    "\n",
    "#training\n",
    "#pretrained weights \n",
    "!wget https://github.com/WongKinYiu/yolov7/releases/download/v0.1/yolov7x.pt\n",
    "!python train.py --weights yolov7x.pt --cfg cfg/training/yolov7x.yaml --data data/rdd.yaml --batch-size 64 --img-size 640 --notest --device 0,1,2,3,4,5,6,7 --sync-bn --save_period 5 \n",
    "\n",
    "#inferencing \n",
    "!python detect.py --weights {your weights}.pt --source datasets/RDD2022/test1_images/ --img-size 800 --conf-thres 0.01 --iou-thres 0.5 --device 0 --nosave --filename {your filename}"
   ]
  },
  {
   "cell_type": "markdown",
   "metadata": {},
   "source": [
    "# mmdetection training and inferencing"
   ]
  },
  {
   "cell_type": "code",
   "execution_count": 16,
   "metadata": {},
   "outputs": [
    {
     "name": "stdout",
     "output_type": "stream",
     "text": [
      "/home/testdingwenchao/ShiYu_SeaView_GRDDC2022\n",
      "/home/testdingwenchao/ShiYu_SeaView_GRDDC2022/mmdetection\n"
     ]
    }
   ],
   "source": [
    "%cd ..\n",
    "%cd mmdetection\n",
    "!ln -s ../datasets datasets\n",
    "\n",
    "#training \n",
    "#pretrained weights \n",
    "!mkdir checkpoints\n",
    "% cd checkpoints \n",
    "!wget https://github.com/SwinTransformer/storage/releases/download/v1.0.0/swin_large_patch4_window7_224_22k.pth\n",
    "!wget https://github.com/SwinTransformer/storage/releases/download/v1.0.0/swin_large_patch4_window12_384_22k.pth\n",
    "% cd..\n",
    "\n",
    "#Faster_Swin_l_w7_ms_1and2\n",
    "!tools/dist_train.sh configs/swin/faster_swin_l.py 8\n",
    "\n",
    "#Faster_Swin_l_w12_DeformRoI_ms1and2\n",
    "!tools/dist_train.sh configs/swin/faster_swin_l12_deform_1.py 8\n",
    "#Faster_Swin_l_w12_DeformRoI_ms1and2\n",
    "!tools/dist_train.sh configs/swin/faster_swin_l12_deform_3.py 8\n",
    "\n",
    "\n",
    "#inferencing\n",
    "!python inference.py configs/swin/faster_swin_l.py Faster_Swin_l_w7_ms_1_2.pth datasets/RDD2022/test1_images/ 640 0.5 0.9999 test.txt\n",
    "!python inference.py {configs} {checkpoints} datasets/RDD2022/test1_images/ {imgsz} {conf_thres} {iou_thres} {filename}\n",
    "\n",
    "\n"
   ]
  },
  {
   "cell_type": "markdown",
   "metadata": {},
   "source": [
    "# Merge results"
   ]
  },
  {
   "cell_type": "code",
   "execution_count": null,
   "metadata": {},
   "outputs": [],
   "source": [
    "#merge two results\n",
    "python merge.py {file1} {file2} {output filename}"
   ]
  }
 ],
 "metadata": {
  "kernelspec": {
   "display_name": "Python 3",
   "language": "python",
   "name": "python3"
  },
  "language_info": {
   "codemirror_mode": {
    "name": "ipython",
    "version": 3
   },
   "file_extension": ".py",
   "mimetype": "text/x-python",
   "name": "python",
   "nbconvert_exporter": "python",
   "pygments_lexer": "ipython3",
   "version": "3.8.13"
  },
  "orig_nbformat": 4
 },
 "nbformat": 4,
 "nbformat_minor": 2
}
