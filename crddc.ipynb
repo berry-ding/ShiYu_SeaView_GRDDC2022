{
 "cells": [
  {
   "cell_type": "markdown",
   "metadata": {},
   "source": [
    "# Dataset preparing\n"
   ]
  },
  {
   "cell_type": "code",
   "execution_count": 2,
   "metadata": {},
   "outputs": [
    {
     "name": "stdout",
     "output_type": "stream",
     "text": [
      "/home/testdingwenchao/ShiYu_SeaView_GRDDC2022/datasets\n",
      "/home/testdingwenchao/ShiYu_SeaView_GRDDC2022/datasets/RDD2022\n",
      "/home/testdingwenchao/ShiYu_SeaView_GRDDC2022/datasets/RDD2022\n",
      "unzip:  cannot find or open RDD2022_Japan.zip, RDD2022_Japan.zip.zip or RDD2022_Japan.zip.ZIP.\n",
      "unzip:  cannot find or open RDD2022_India.zip, RDD2022_India.zip.zip or RDD2022_India.zip.ZIP.\n",
      "unzip:  cannot find or open RDD2022_Czech.zip, RDD2022_Czech.zip.zip or RDD2022_Czech.zip.ZIP.\n",
      "unzip:  cannot find or open RDD2022_United_States.zip, RDD2022_United_States.zip.zip or RDD2022_United_States.zip.ZIP.\n",
      "unzip:  cannot find or open RDD2022_China_Drone.zip, RDD2022_China_Drone.zip.zip or RDD2022_China_Drone.zip.ZIP.\n",
      "unzip:  cannot find or open RDD2022_China_MotorBike.zip, RDD2022_China_MotorBike.zip.zip or RDD2022_China_MotorBike.zip.ZIP.\n"
     ]
    }
   ],
   "source": [
    "#data downloading\n",
    "\n",
    "# %cd datasets\n",
    "# %cd RDD2022\n",
    "# !wget https://bigdatacup.s3.ap-northeast-1.amazonaws.com/2022/CRDDC2022/RDD2022/Country_Specific_Data_CRDDC2022/RDD2022_Japan.zip\n",
    "# !wget https://bigdatacup.s3.ap-northeast-1.amazonaws.com/2022/CRDDC2022/RDD2022/Country_Specific_Data_CRDDC2022/RDD2022_India.zip\n",
    "# !wget https://bigdatacup.s3.ap-northeast-1.amazonaws.com/2022/CRDDC2022/RDD2022/Country_Specific_Data_CRDDC2022/RDD2022_Czech.zip\n",
    "# !wget https://bigdatacup.s3.ap-northeast-1.amazonaws.com/2022/CRDDC2022/RDD2022/Country_Specific_Data_CRDDC2022/RDD2022_Norway.zip\n",
    "# !wget https://bigdatacup.s3.ap-northeast-1.amazonaws.com/2022/CRDDC2022/RDD2022/Country_Specific_Data_CRDDC2022/RDD2022_United_States.zip\n",
    "# !wget https://bigdatacup.s3.ap-northeast-1.amazonaws.com/2022/CRDDC2022/RDD2022/Country_Specific_Data_CRDDC2022/RDD2022_China_MotorBike.zip\n",
    "# !wget https://bigdatacup.s3.ap-northeast-1.amazonaws.com/2022/CRDDC2022/RDD2022/Country_Specific_Data_CRDDC2022/RDD2022_China_Drone.zip\n",
    "# !unzip RDD2022_Japan.zip\n",
    "# !unzip RDD2022_India.zip\n",
    "# !unzip RDD2022_Czech.zip\n",
    "# !unzip RDD2022_Norway.zip\n",
    "# !unzip RDD2022_United_States.zip\n",
    "# !unzip RDD2022_China_Drone.zip\n",
    "# !unzip RDD2022_China_MotorBike.zip\n",
    "# !mv RDD2022_Japan Japan\n",
    "# !mv RDD2022_India India\n",
    "# !mv RDD2022_Czech Czech \n",
    "# !mv RDD2022_Norway Norway\n",
    "# !mv RDD2022_United_States United_States\n",
    "# !mv RDD2022_China_Drone China_Drone\n",
    "# !mv RDD2022_China_MotorBike China_MotorBike\n",
    "\n",
    "# !ls -a"
   ]
  },
  {
   "cell_type": "markdown",
   "metadata": {},
   "source": [
    "# data pre-processing for yolo"
   ]
  },
  {
   "cell_type": "code",
   "execution_count": 24,
   "metadata": {},
   "outputs": [
    {
     "name": "stdout",
     "output_type": "stream",
     "text": [
      "/home/testdingwenchao/ShiYu_SeaView_GRDDC2022/datasets/RDD2022\n",
      "/home/testdingwenchao/ShiYu_SeaView_GRDDC2022\n",
      "total files: 38384\n",
      "D00 : 13548\n",
      "D10 : 7709\n",
      "D40 : 3674\n",
      "D20 : 8412\n"
     ]
    }
   ],
   "source": [
    "\n",
    "# %pip install Pillow\n",
    "# %pip install tqdm\n",
    "# %cd datasets/RDD2022\n",
    "# !python gene_train_val.py\n",
    "# %cd ../..\n",
    "# !python datasets/RDD2022/xml2yolo.py --class_file datasets/RDD2022/damage_classes.txt --input_file datasets/RDD2022/train.txt"
   ]
  },
  {
   "cell_type": "markdown",
   "metadata": {},
   "source": [
    "# data pre-processing for mmdetection"
   ]
  },
  {
   "cell_type": "code",
   "execution_count": 25,
   "metadata": {},
   "outputs": [
    {
     "name": "stdout",
     "output_type": "stream",
     "text": [
      "100%|████████████████████████████████████| 7706/7706 [00:00<00:00, 24975.78it/s]\n",
      "100%|████████████████████████████████████| 2829/2829 [00:00<00:00, 24758.66it/s]\n",
      "100%|██████████████████████████████████| 10506/10506 [00:00<00:00, 21881.01it/s]\n",
      "100%|████████████████████████████████████| 4805/4805 [00:00<00:00, 28198.45it/s]\n",
      "100%|████████████████████████████████████| 2401/2401 [00:00<00:00, 33387.79it/s]\n",
      "100%|████████████████████████████████████| 1977/1977 [00:00<00:00, 33132.64it/s]\n",
      "100%|████████████████████████████████████| 8161/8161 [00:00<00:00, 33840.05it/s]\n"
     ]
    }
   ],
   "source": [
    "!python datasets/RDD2022/gene_file_list.py"
   ]
  }
 ],
 "metadata": {
  "kernelspec": {
   "display_name": "Python 3",
   "language": "python",
   "name": "python3"
  },
  "language_info": {
   "codemirror_mode": {
    "name": "ipython",
    "version": 3
   },
   "file_extension": ".py",
   "mimetype": "text/x-python",
   "name": "python",
   "nbconvert_exporter": "python",
   "pygments_lexer": "ipython3",
   "version": "3.8.13"
  },
  "orig_nbformat": 4
 },
 "nbformat": 4,
 "nbformat_minor": 2
}
